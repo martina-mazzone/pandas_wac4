{
 "cells": [
  {
   "cell_type": "code",
   "execution_count": 1,
   "metadata": {},
   "outputs": [],
   "source": [
    "import pandas as pd"
   ]
  },
  {
   "cell_type": "code",
   "execution_count": 2,
   "metadata": {},
   "outputs": [],
   "source": [
    "df = pd.read_csv('world_alcohol.csv')"
   ]
  },
  {
   "cell_type": "code",
   "execution_count": 4,
   "metadata": {},
   "outputs": [],
   "source": [
    "world_alcohol_data = pd.read_csv('world_alcohol.csv')"
   ]
  },
  {
   "cell_type": "code",
   "execution_count": 5,
   "metadata": {},
   "outputs": [
    {
     "name": "stdout",
     "output_type": "stream",
     "text": [
      "        WHO region                Country Beverage Types\n",
      "0  Western Pacific               Viet Nam           Wine\n",
      "1         Americas                Uruguay          Other\n",
      "2           Africa           Cte d'Ivoire           Wine\n",
      "3         Americas               Colombia           Beer\n",
      "4         Americas  Saint Kitts and Nevis           Beer\n",
      "5         Americas              Guatemala          Other\n",
      "6           Africa              Mauritius           Wine\n",
      "7           Africa                 Angola        Spirits\n",
      "8         Americas    Antigua and Barbuda        Spirits\n",
      "9           Africa                Nigeria          Other\n"
     ]
    }
   ],
   "source": [
    "# Select consecutive columns (e.g., 'WHO region' to 'Beverage Types')\n",
    "selected_columns = world_alcohol_data.loc[:, 'WHO region':'Beverage Types']\n",
    "\n",
    "# Select rows with index labels 0 to 9\n",
    "filtered_rows = selected_columns.iloc[0:10]\n",
    "\n",
    "# Display the filtered dataset\n",
    "print(filtered_rows)"
   ]
  }
 ],
 "metadata": {
  "kernelspec": {
   "display_name": ".venv",
   "language": "python",
   "name": "python3"
  },
  "language_info": {
   "codemirror_mode": {
    "name": "ipython",
    "version": 3
   },
   "file_extension": ".py",
   "mimetype": "text/x-python",
   "name": "python",
   "nbconvert_exporter": "python",
   "pygments_lexer": "ipython3",
   "version": "3.13.0"
  }
 },
 "nbformat": 4,
 "nbformat_minor": 2
}
